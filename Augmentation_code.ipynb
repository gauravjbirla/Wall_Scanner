{
  "cells": [
    {
      "cell_type": "code",
      "execution_count": null,
      "metadata": {
        "colab": {
          "base_uri": "https://localhost:8080/"
        },
        "id": "1M4c-DoamUps",
        "outputId": "49b83087-6b86-42da-9246-5ebfcdc28c8d"
      },
      "outputs": [
        {
          "output_type": "stream",
          "name": "stdout",
          "text": [
            "Drive already mounted at /content/drive; to attempt to forcibly remount, call drive.mount(\"/content/drive\", force_remount=True).\n"
          ]
        }
      ],
      "source": [
        "from google.colab import drive\n",
        "drive.mount('/content/drive')"
      ]
    },
    {
      "cell_type": "code",
      "execution_count": null,
      "metadata": {
        "id": "GtFUHnnrevgB"
      },
      "outputs": [],
      "source": [
        "import imgaug.augmenters as iaa\n",
        "import os\n",
        "from PIL import Image\n",
        "import numpy as np\n",
        "\n",
        "\n",
        "# Define the path to the folder containing the images\n",
        "folder_path = \"/content/drive/MyDrive/WallCracks/WaterLeakage\"\n",
        "\n",
        "# Define the list of image file extensions to process\n",
        "extensions = [\".jpg\", \".jpeg\", \".png\"]\n",
        "\n",
        "# Define the image augmentation operations to apply\n",
        "augmentations = iaa.Sequential([\n",
        "    iaa.Affine(rotate=(-25, 25)),\n",
        "    iaa.GaussianBlur(sigma=(0, 1.0)),\n",
        "    iaa.AddToHueAndSaturation((-20, 20)),\n",
        "    iaa.Fliplr(0.5),\n",
        "    iaa.Crop(percent=(0, 0.2)),\n",
        "    iaa.Affine(scale=(0.5, 1.5))\n",
        "])\n",
        "\n",
        "# Iterate over all files in the folder\n",
        "for filename in os.listdir(folder_path):\n",
        "    # Check if the file has a valid image file extension\n",
        "    if any(filename.endswith(ext) for ext in extensions):\n",
        "        # Read the image from the file\n",
        "        image = Image.open(os.path.join(folder_path, filename))\n",
        "        # Convert the PIL image to numpy array\n",
        "        image_array = np.array(image)\n",
        "        # Apply the augmentations to the image array\n",
        "        augmented_array = augmentations(image=image_array)\n",
        "        # Convert the augmented numpy array back to PIL image\n",
        "        augmented_image = Image.fromarray(augmented_array)\n",
        "        # Save the augmented image to file\n",
        "        augmented_image.save(os.path.join(folder_path, f\"augmented_{filename}\"))\n"
      ]
    }
  ],
  "metadata": {
    "colab": {
      "provenance": []
    },
    "kernelspec": {
      "display_name": "Python 3",
      "name": "python3"
    },
    "language_info": {
      "name": "python"
    }
  },
  "nbformat": 4,
  "nbformat_minor": 0
}